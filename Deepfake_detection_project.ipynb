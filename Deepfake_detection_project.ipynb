{
  "nbformat": 4,
  "nbformat_minor": 0,
  "metadata": {
    "colab": {
      "name": "Deepfake_detection_project.ipynb",
      "provenance": [],
      "collapsed_sections": []
    },
    "kernelspec": {
      "name": "python3",
      "display_name": "Python 3"
    },
    "language_info": {
      "name": "python"
    }
  },
  "cells": [
    {
      "cell_type": "code",
      "metadata": {
        "colab": {
          "base_uri": "https://localhost:8080/"
        },
        "id": "YCH3zdcKF7sf",
        "outputId": "4fe32548-bfc9-4c84-fc84-2493b9c6c4bd"
      },
      "source": [
        "from google.colab import drive\n",
        "drive.mount('/content/drive')"
      ],
      "execution_count": null,
      "outputs": [
        {
          "output_type": "stream",
          "text": [
            "Mounted at /content/drive\n"
          ],
          "name": "stdout"
        }
      ]
    },
    {
      "cell_type": "markdown",
      "metadata": {
        "id": "fvWjoDznkN1I"
      },
      "source": [
        "CAPTURING THE IMAGES (using the dlib face detector to convert video to face images)"
      ]
    },
    {
      "cell_type": "code",
      "metadata": {
        "id": "0IXk_xT_jiy_"
      },
      "source": [
        "import dlib \n",
        "import cv2\n",
        "import os\n",
        "import json "
      ],
      "execution_count": null,
      "outputs": []
    },
    {
      "cell_type": "code",
      "metadata": {
        "id": "FDS44g_VjqSq"
      },
      "source": [
        "train_frame_path = '/content/drive/MyDrive/DeepfakeProject/train_videos/'\n",
        "\n",
        "with open(os.path.join(train_frame_path, 'metadata.json'), 'r') as file: \n",
        "    data = json.load(file)\n",
        "\n",
        "train_data_list = [f for f in os.listdir(train_frame_path) if f.endswith('.mp4')] \n",
        "detector = dlib.get_frontal_face_detector() #loading the detector\n",
        "for vid in train_data_list:\n",
        "    count = 0\n",
        "    capture = cv2.VideoCapture(os.path.join(train_frame_path, vid)) \n",
        "    frame_rate = capture.get(5) #CAP_PROP_FPS - frame rate.\n",
        "    while capture.isOpened(): \n",
        "        frame_ID = capture.get(1) # CAP_PROP_POS_FRAMES - 0-based index of the frame to be decoded/captured next\n",
        "        ret, frame = capture.read() # Capture frame-by-frame\n",
        "        if ret != True:\n",
        "          break\n",
        "        if frame_ID % ((int(frame_rate)+1)*1) == 0:\n",
        "            face_rects, scores, idx = detector.run(frame, 0) \n",
        "                                                             \n",
        "            for i, d in enumerate(face_rects): #enumarating the left,top,right and bottom edges of all face rectangles\n",
        "                x1 = d.left()\n",
        "                y1 = d.top()\n",
        "                x2 = d.right()\n",
        "                y2 = d.bottom()\n",
        "                crop_image = frame[y1:y2, x1:x2] #croping the images based on the rectangles \n",
        "                if data[vid]['label'] == 'REAL':\n",
        "                    try:\n",
        "                      cv2.imwrite('/content/drive/MyDrive/DeepfakeProject/dataset/real/'+vid.split('.')[0]+'_'+str(count)+'.png', cv2.resize(crop_image, (128, 128)))# Saving the image\n",
        "                    except:\n",
        "                        break\n",
        "                elif data[vid]['label'] == 'FAKE':\n",
        "                  try:\n",
        "                    cv2.imwrite('/content/drive/MyDrive/DeepfakeProject/dataset/fake/'+vid.split('.')[0]+'_'+str(count)+'.png', cv2.resize(crop_image, (128, 128)))# Saving the image\n",
        "                  except:\n",
        "                    break\n",
        "                count+=1"
      ],
      "execution_count": null,
      "outputs": []
    },
    {
      "cell_type": "markdown",
      "metadata": {
        "id": "XaGN-FhUkWjF"
      },
      "source": [
        "TRAINING THE DEEPFAKE DETECTION (training the dataset with captured images and outputing the model file)"
      ]
    },
    {
      "cell_type": "code",
      "metadata": {
        "id": "Is78LNxIkcqi"
      },
      "source": [
        "import tensorflow as tf\n",
        "import numpy as np\n",
        "import matplotlib.pyplot as plt\n",
        "import seaborn as sn\n",
        "import pandas as pd\n",
        "\n",
        "from tensorflow.keras.preprocessing.image import ImageDataGenerator,img_to_array,load_img\n",
        "from tensorflow.keras.utils import to_categorical\n",
        "from sklearn.model_selection import train_test_split\n",
        "from sklearn.metrics import confusion_matrix"
      ],
      "execution_count": null,
      "outputs": []
    },
    {
      "cell_type": "code",
      "metadata": {
        "id": "eNME1UYkmiUN"
      },
      "source": [
        "input_shape = (128,128,3)\n",
        "data_directory = '/content/drive/MyDrive/DeepfakeProject/dataset'\n",
        "\n",
        "real_data = [f for f in os.listdir(data_directory+'/real') if f.endswith('.png')] #defining the data\n",
        "fake_data = [f for f in os.listdir(data_directory+'/fake') if f.endswith('.png')]\n",
        "\n",
        "X=[]\n",
        "Y=[]\n",
        "\n",
        "for image in real_data:\n",
        "  X.append(img_to_array(load_img(data_directory+'/real/'+image)).flatten()/255.0) #return a copy of the array collapsed into one dimension then divide it by 255 to bring the pixel values between 0 and 1\n",
        "  Y.append(1)\n",
        "for image in fake_data:\n",
        "  X.append(img_to_array(load_img(data_directory+'/fake/'+image)).flatten()/255.0)\n",
        "  Y.append(0)\n",
        "  \n",
        "Y_original = Y\n",
        "\n",
        "#Normalizing the data \n",
        "X = np.array(X)\n",
        "Y = to_categorical(Y,2) #returns a matrix of binary values with the number of rows equal to the length of the input vector and the number of columns equal to the number of classes\n",
        "\n",
        "#Reshaping \n",
        "X=X.reshape(-1,128,128,3)\n",
        "\n",
        "X_train, X_test, Y_train, Y_test = train_test_split(X,Y,test_size=0.4, random_state=5)"
      ],
      "execution_count": null,
      "outputs": []
    },
    {
      "cell_type": "code",
      "metadata": {
        "id": "WIthHidzsr37"
      },
      "source": [
        "from tensorflow.keras.applications import InceptionResNetV2\n",
        "from tensorflow.keras.layers import Conv2D\n",
        "from tensorflow.keras.layers import MaxPooling2D\n",
        "from tensorflow.keras.layers import Flatten\n",
        "from tensorflow.keras.layers import Dense\n",
        "from tensorflow.keras.layers import Dropout\n",
        "from tensorflow.keras.layers import InputLayer\n",
        "from tensorflow.keras.layers import GlobalAveragePooling2D\n",
        "from tensorflow.keras.models import Sequential\n",
        "from tensorflow.keras.models import Model\n",
        "from tensorflow.keras import optimizers\n",
        "from tensorflow.keras.callbacks import ReduceLROnPlateau"
      ],
      "execution_count": null,
      "outputs": []
    },
    {
      "cell_type": "code",
      "metadata": {
        "colab": {
          "base_uri": "https://localhost:8080/"
        },
        "id": "URlJVrygwNFB",
        "outputId": "359194df-e975-4358-9ea0-8c053aa21f6a"
      },
      "source": [
        "googleNet_model = InceptionResNetV2(include_top=False, weights='imagenet', input_shape=input_shape)\n",
        "googleNet_model.trainable = True\n",
        "\n",
        "model = Sequential() #creating a sequential model \n",
        "model.add(googleNet_model)\n",
        "model.add(GlobalAveragePooling2D())\n",
        "model.add(Dropout(0.6)) \n",
        "model.add(Dense(units=2, activation='softmax')) #softmax converts a real vector to a vector of categorical probabilities; the elements of the output vector are in range (0, 1) and sum to 1\n",
        "\n",
        "#configuring the model with losses and metrics\n",
        "model.compile(loss='binary_crossentropy', #computes the cross-entropy loss between true labels and predicted labels\n",
        "              optimizer=optimizers.Adam(learning_rate=0.0001, beta_1=0.9, beta_2=0.999, epsilon=None, decay=0.0, amsgrad=False),\n",
        "              metrics=['accuracy'])\n",
        "\n",
        "model.summary()"
      ],
      "execution_count": null,
      "outputs": [
        {
          "output_type": "stream",
          "text": [
            "Downloading data from https://storage.googleapis.com/tensorflow/keras-applications/inception_resnet_v2/inception_resnet_v2_weights_tf_dim_ordering_tf_kernels_notop.h5\n",
            "219062272/219055592 [==============================] - 1s 0us/step\n",
            "Model: \"sequential\"\n",
            "_________________________________________________________________\n",
            "Layer (type)                 Output Shape              Param #   \n",
            "=================================================================\n",
            "inception_resnet_v2 (Functio (None, 2, 2, 1536)        54336736  \n",
            "_________________________________________________________________\n",
            "global_average_pooling2d (Gl (None, 1536)              0         \n",
            "_________________________________________________________________\n",
            "dropout (Dropout)            (None, 1536)              0         \n",
            "_________________________________________________________________\n",
            "dense (Dense)                (None, 2)                 3074      \n",
            "=================================================================\n",
            "Total params: 54,339,810\n",
            "Trainable params: 54,279,266\n",
            "Non-trainable params: 60,544\n",
            "_________________________________________________________________\n"
          ],
          "name": "stdout"
        }
      ]
    },
    {
      "cell_type": "code",
      "metadata": {
        "colab": {
          "base_uri": "https://localhost:8080/"
        },
        "id": "lhUuhMXn3gvY",
        "outputId": "a51ba130-97ca-4cc5-eb82-4930e345ddad"
      },
      "source": [
        "epochs = 10\n",
        "batch_size = 100\n",
        "history = model.fit(X_train, Y_train, batch_size, epochs, validation_data = (X_test, Y_test), verbose = 1, shuffle=True)"
      ],
      "execution_count": null,
      "outputs": [
        {
          "output_type": "stream",
          "text": [
            "Epoch 1/10\n",
            "1/1 [==============================] - 50s 50s/step - loss: 0.8549 - accuracy: 0.4000 - val_loss: 0.9368 - val_accuracy: 0.6719\n",
            "Epoch 2/10\n",
            "1/1 [==============================] - 29s 29s/step - loss: 0.6432 - accuracy: 0.6211 - val_loss: 0.8824 - val_accuracy: 0.7812\n",
            "Epoch 3/10\n",
            "1/1 [==============================] - 29s 29s/step - loss: 0.4514 - accuracy: 0.9053 - val_loss: 0.8363 - val_accuracy: 0.7500\n",
            "Epoch 4/10\n",
            "1/1 [==============================] - 29s 29s/step - loss: 0.3932 - accuracy: 0.9579 - val_loss: 0.7765 - val_accuracy: 0.7812\n",
            "Epoch 5/10\n",
            "1/1 [==============================] - 29s 29s/step - loss: 0.2856 - accuracy: 0.9895 - val_loss: 0.7330 - val_accuracy: 0.7969\n",
            "Epoch 6/10\n",
            "1/1 [==============================] - 29s 29s/step - loss: 0.2465 - accuracy: 0.9789 - val_loss: 0.6944 - val_accuracy: 0.8281\n",
            "Epoch 7/10\n",
            "1/1 [==============================] - 30s 30s/step - loss: 0.1645 - accuracy: 0.9895 - val_loss: 0.6616 - val_accuracy: 0.8125\n",
            "Epoch 8/10\n",
            "1/1 [==============================] - 30s 30s/step - loss: 0.1367 - accuracy: 0.9895 - val_loss: 0.6316 - val_accuracy: 0.8125\n",
            "Epoch 9/10\n",
            "1/1 [==============================] - 30s 30s/step - loss: 0.1174 - accuracy: 0.9895 - val_loss: 0.6062 - val_accuracy: 0.8281\n",
            "Epoch 10/10\n",
            "1/1 [==============================] - 30s 30s/step - loss: 0.0858 - accuracy: 0.9895 - val_loss: 0.5851 - val_accuracy: 0.8281\n"
          ],
          "name": "stdout"
        }
      ]
    },
    {
      "cell_type": "code",
      "metadata": {
        "colab": {
          "base_uri": "https://localhost:8080/",
          "height": 287
        },
        "id": "cycKh4GO-p2m",
        "outputId": "99ca68ce-b8b1-44c9-cb0a-372ae3e0da11"
      },
      "source": [
        " #plotting the accuracy and loss\n",
        "\n",
        "f, (ax1, ax2) = plt.subplots(1, 2, figsize=(20, 4))\n",
        "f.subplots_adjust(top=0.85, wspace=0.3)\n",
        "\n",
        "epoch_list = list(range(1,epochs+1))\n",
        "ax1.plot(epoch_list, history.history['accuracy'], label='Train Accuracy')\n",
        "ax1.plot(epoch_list, history.history['val_accuracy'], label='Validation Accuracy')\n",
        "ax1.set_xticks(np.arange(0, epochs+1, 1))\n",
        "ax1.set_ylabel('Accuracy Value')\n",
        "ax1.set_xlabel('Epoch #')\n",
        "ax1.set_title('Accuracy')\n",
        "l1 = ax1.legend(loc=\"best\")\n",
        "\n",
        "ax2.plot(epoch_list, history.history['loss'], label='Train Loss')\n",
        "ax2.plot(epoch_list, history.history['val_loss'], label='Validation Loss')\n",
        "ax2.set_xticks(np.arange(0, epochs+1, 1))\n",
        "ax2.set_ylabel('Loss Value')\n",
        "ax2.set_xlabel('Epoch #')\n",
        "ax2.set_title('Loss')\n",
        "l2 = ax2.legend(loc=\"best\")"
      ],
      "execution_count": null,
      "outputs": [
        {
          "output_type": "display_data",
          "data": {
            "image/png": "[encoded data removed]",
            "text/plain": [
              "<Figure size 1440x288 with 2 Axes>"
            ]
          },
          "metadata": {
            "tags": [],
            "needs_background": "light"
          }
        }
      ]
    },
    {
      "cell_type": "code",
      "metadata": {
        "colab": {
          "base_uri": "https://localhost:8080/",
          "height": 458
        },
        "id": "BuaYB5UECGFZ",
        "outputId": "a4f6f5ae-ca99-41a7-ab49-db0207b5edd1"
      },
      "source": [
        "#Output confusion matrix\n",
        "\n",
        "def print_confusion_matrix(y_true, y_pred):\n",
        "    cm = confusion_matrix(y_true, y_pred)\n",
        "    print('True positive = ', cm[0][0])\n",
        "    print('False positive = ', cm[0][1])\n",
        "    print('False negative = ', cm[1][0])\n",
        "    print('True negative = ', cm[1][1])\n",
        "    print('\\n')\n",
        "    df_cm = pd.DataFrame(cm, range(2), range(2))\n",
        "    sn.set(font_scale=1.4) # for label size\n",
        "    sn.heatmap(df_cm, annot=True, annot_kws={\"size\": 16}) # font size\n",
        "    plt.ylabel('Actual label', size = 20)\n",
        "    plt.xlabel('Predicted label', size = 20)\n",
        "    plt.xticks(np.arange(2), ['Fake', 'Real'], size = 16)\n",
        "    plt.yticks(np.arange(2), ['Fake', 'Real'], size = 16)\n",
        "    plt.ylim([2, 0])\n",
        "    plt.show()\n",
        "    \n",
        "print_confusion_matrix(Y_original, model.predict_classes(X))"
      ],
      "execution_count": null,
      "outputs": [
        {
          "output_type": "stream",
          "text": [
            "/usr/local/lib/python3.7/dist-packages/tensorflow/python/keras/engine/sequential.py:450: UserWarning: `model.predict_classes()` is deprecated and will be removed after 2021-01-01. Please use instead:* `np.argmax(model.predict(x), axis=-1)`,   if your model does multi-class classification   (e.g. if it uses a `softmax` last-layer activation).* `(model.predict(x) > 0.5).astype(\"int32\")`,   if your model does binary classification   (e.g. if it uses a `sigmoid` last-layer activation).\n",
            "  warnings.warn('`model.predict_classes()` is deprecated and '\n"
          ],
          "name": "stderr"
        },
        {
          "output_type": "stream",
          "text": [
            "True positive =  93\n",
            "False positive =  16\n",
            "False negative =  8\n",
            "True negative =  42\n",
            "\n",
            "\n"
          ],
          "name": "stdout"
        },
        {
          "output_type": "display_data",
          "data": {
            "image/png": "[encoded data removed]",
            "text/plain": [
              "<Figure size 432x288 with 2 Axes>"
            ]
          },
          "metadata": {
            "tags": []
          }
        }
      ]
    },
    {
      "cell_type": "code",
      "metadata": {
        "id": "G9s4sYjjDrwN"
      },
      "source": [
        "model.save('deepfake-detection-model.h5')"
      ],
      "execution_count": null,
      "outputs": []
    },
    {
      "cell_type": "markdown",
      "metadata": {
        "id": "nUR3sVAnHtuj"
      },
      "source": [
        "DEEPFAKE DETECTION (loading the model and inputting a video to detect whether it is fake or not)"
      ]
    },
    {
      "cell_type": "code",
      "metadata": {
        "id": "BYOUBIA2DsY7"
      },
      "source": [
        "from tensorflow.keras.models import load_model"
      ],
      "execution_count": null,
      "outputs": []
    },
    {
      "cell_type": "code",
      "metadata": {
        "colab": {
          "base_uri": "https://localhost:8080/",
          "height": 35
        },
        "id": "tQmvL709Qw4J",
        "outputId": "24885cd6-8fea-466c-ed1d-b73db5157295"
      },
      "source": [
        "tf.__version__\n"
      ],
      "execution_count": null,
      "outputs": [
        {
          "output_type": "execute_result",
          "data": {
            "application/vnd.google.colaboratory.intrinsic+json": {
              "type": "string"
            },
            "text/plain": [
              "'2.4.1'"
            ]
          },
          "metadata": {
            "tags": []
          },
          "execution_count": 14
        }
      ]
    },
    {
      "cell_type": "code",
      "metadata": {
        "id": "EZPCL-JsQzCX"
      },
      "source": [
        "model = load_model('deepfake-detection-model.h5')\n"
      ],
      "execution_count": null,
      "outputs": []
    },
    {
      "cell_type": "code",
      "metadata": {
        "colab": {
          "base_uri": "https://localhost:8080/"
        },
        "id": "1g_K5OguQG3Q",
        "outputId": "fb1e3725-690d-4b79-89cc-bac65115c918"
      },
      "source": [
        "test_frame_path = '/content/drive/MyDrive/DeepfakeProject/test_videos'\n",
        "\n",
        "test_data_list = [f for f in os.listdir(test_frame_path) if f.endswith('.mp4')] \n",
        "detector = dlib.get_frontal_face_detector() #loading the detector\n",
        "for vid in test_data_list:\n",
        "    count = 0\n",
        "    capture = cv2.VideoCapture(os.path.join(test_frame_path, vid)) \n",
        "    frame_rate = capture.get(5) #CAP_PROP_FPS - frame rate.\n",
        "    while capture.isOpened():\n",
        "        frame_ID = capture.get(1) # CAP_PROP_POS_FRAMES - 0-based index of the frame to be decoded/captured next\n",
        "        ret, frame = capture.read() # Capture frame-by-frame\n",
        "        if ret != True:\n",
        "          break\n",
        "        if frame_ID % ((int(frame_rate)+1)*1) == 0:\n",
        "            face_rects, scores, idx = detector.run(frame, 0)  \n",
        "                                                             \n",
        "            for i, d in enumerate(face_rects): #enumarating the left,top,right and bottom edges of all face rectangles\n",
        "                x1 = d.left()\n",
        "                y1 = d.top()\n",
        "                x2 = d.right()\n",
        "                y2 = d.bottom()\n",
        "                crop_image = frame[y1:y2, x1:x2] #croping the images based on the rectangles \n",
        "                cv2.imwrite('/content/drive/MyDrive/DeepfakeProject/dataset/test/'+vid.split('.')[0]+'_'+str(count)+'.png', cv2.resize(crop_image, (128, 128)))# Saving the image\n",
        "                data = img_to_array(cv2.resize(crop_image, (128, 128))).flatten() / 255.0\n",
        "                data = data.reshape(-1, 128, 128, 3)\n",
        "                print(model.predict_classes(data)) #most likely class (highest probability value)\n",
        "                count+=1"
      ],
      "execution_count": null,
      "outputs": [
        {
          "output_type": "stream",
          "text": [
            "/usr/local/lib/python3.7/dist-packages/tensorflow/python/keras/engine/sequential.py:450: UserWarning: `model.predict_classes()` is deprecated and will be removed after 2021-01-01. Please use instead:* `np.argmax(model.predict(x), axis=-1)`,   if your model does multi-class classification   (e.g. if it uses a `softmax` last-layer activation).* `(model.predict(x) > 0.5).astype(\"int32\")`,   if your model does binary classification   (e.g. if it uses a `sigmoid` last-layer activation).\n",
            "  warnings.warn('`model.predict_classes()` is deprecated and '\n"
          ],
          "name": "stderr"
        },
        {
          "output_type": "stream",
          "text": [
            "[1]\n",
            "[1]\n",
            "[1]\n",
            "[1]\n",
            "[1]\n",
            "[1]\n",
            "[1]\n",
            "[1]\n",
            "[1]\n",
            "[1]\n",
            "[0]\n",
            "[0]\n",
            "[1]\n",
            "[0]\n",
            "[1]\n",
            "[1]\n",
            "[1]\n",
            "[1]\n",
            "[0]\n",
            "[0]\n",
            "[0]\n",
            "[0]\n",
            "[0]\n",
            "[0]\n",
            "[0]\n",
            "[0]\n",
            "[0]\n",
            "[0]\n",
            "[0]\n",
            "[1]\n",
            "[1]\n",
            "[0]\n",
            "[1]\n",
            "[1]\n",
            "[1]\n",
            "[1]\n",
            "[1]\n",
            "[1]\n",
            "[1]\n",
            "[1]\n",
            "[1]\n",
            "[1]\n",
            "[1]\n",
            "[1]\n",
            "[0]\n",
            "[1]\n",
            "[1]\n",
            "[1]\n",
            "[1]\n",
            "[0]\n",
            "[0]\n",
            "[1]\n",
            "[0]\n"
          ],
          "name": "stdout"
        }
      ]
    },
    {
      "cell_type": "code",
      "metadata": {
        "id": "jHSn_mwA9rSC"
      },
      "source": [
        ""
      ],
      "execution_count": null,
      "outputs": []
    }
  ]
}